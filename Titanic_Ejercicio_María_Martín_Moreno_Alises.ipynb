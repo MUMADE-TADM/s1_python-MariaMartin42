{
  "nbformat": 4,
  "nbformat_minor": 0,
  "metadata": {
    "colab": {
      "provenance": [],
      "private_outputs": true,
      "include_colab_link": true
    },
    "kernelspec": {
      "name": "python3",
      "display_name": "Python 3"
    }
  },
  "cells": [
    {
      "cell_type": "markdown",
      "metadata": {
        "id": "view-in-github",
        "colab_type": "text"
      },
      "source": [
        "<a href=\"https://colab.research.google.com/github/MUMADE-TADM/s1_python-MariaMartin42/blob/main/Titanic_Ejercicio_Mar%C3%ADa_Mart%C3%ADn_Moreno_Alises.ipynb\" target=\"_parent\"><img src=\"https://colab.research.google.com/assets/colab-badge.svg\" alt=\"Open In Colab\"/></a>"
      ]
    },
    {
      "cell_type": "markdown",
      "metadata": {
        "id": "SokvQ-3OsEL4"
      },
      "source": [
        "# ¿Que influyó en las muertes de pasajeros del Titanic?\n",
        " ¿La clase de pasaje? ¿La edad? ¿El costo del pasaje?"
      ]
    },
    {
      "cell_type": "markdown",
      "metadata": {
        "id": "l3A2XWchso3t"
      },
      "source": [
        "# Copie este notebook en su cuenta junto con los datos **titanic.csv** \n"
      ]
    },
    {
      "cell_type": "markdown",
      "metadata": {
        "id": "l-er_x1ytSqz"
      },
      "source": [
        "## Utilice estas librerías"
      ]
    },
    {
      "cell_type": "code",
      "metadata": {
        "id": "CQdOcbm1_AHX"
      },
      "source": [
        "import pandas as pd\n",
        "import numpy as np\n",
        "from sklearn import tree\n",
        "from sklearn.tree import DecisionTreeClassifier\n",
        "from sklearn.tree import export_text\n",
        "import graphviz"
      ],
      "execution_count": null,
      "outputs": []
    },
    {
      "cell_type": "markdown",
      "metadata": {
        "id": "MJdFs5hZtjnT"
      },
      "source": [
        "## Lea el fichero de datos en un DataFrame de pandas **datos**"
      ]
    },
    {
      "cell_type": "code",
      "metadata": {
        "id": "eGY2VZzOATsD"
      },
      "source": [
        "import pandas as pd\n",
        "datos= pd.read_csv('titanic.csv')\n",
        "datos.head()"
      ],
      "execution_count": null,
      "outputs": []
    },
    {
      "cell_type": "markdown",
      "metadata": {
        "id": "2E65IGRGtzWQ"
      },
      "source": [
        "## Investigue si hay datos erróneos o vacios con valor **Nan** y elimínelos"
      ]
    },
    {
      "cell_type": "markdown",
      "source": [
        "Con la función *dropna* se procede a la búsqueda de valores Nan y a su eliminación"
      ],
      "metadata": {
        "id": "yELaLLnaQy9f"
      }
    },
    {
      "cell_type": "code",
      "source": [
        "X=datos[['Survived','Pclass','Age','Fare']].dropna()"
      ],
      "metadata": {
        "id": "ZxaDOgiyJFv-"
      },
      "execution_count": null,
      "outputs": []
    },
    {
      "cell_type": "code",
      "source": [
        "X.head()"
      ],
      "metadata": {
        "id": "eOHwDQIWIpYi"
      },
      "execution_count": null,
      "outputs": []
    },
    {
      "cell_type": "markdown",
      "metadata": {
        "id": "Sd_BVB7DuGK0"
      },
      "source": [
        "## Con los datos límpios cree el conjunto de datos de entrenamiento\n",
        "- **X** con las columnas 'Pclass','Age' y 'Fare'\n",
        "- **y** con la columna 'Survived'"
      ]
    },
    {
      "cell_type": "code",
      "source": [
        "y=X['Survived']\n",
        "X=X.drop(['Survived'],axis=1)"
      ],
      "metadata": {
        "id": "btmWNpx_I8ST"
      },
      "execution_count": null,
      "outputs": []
    },
    {
      "cell_type": "markdown",
      "metadata": {
        "id": "Gkl7D6ALvM2U"
      },
      "source": [
        "## Cree el árbol de clasificación **Ad**"
      ]
    },
    {
      "cell_type": "code",
      "metadata": {
        "id": "gqPAB36GBAAU"
      },
      "source": [
        "from sklearn.tree import DecisionTreeClassifier\n",
        "from sklearn import tree\n",
        "\n",
        "Ad=DecisionTreeClassifier(criterion='gini',max_depth=5)\n",
        "Ade=Ad.fit(X,y)"
      ],
      "execution_count": null,
      "outputs": []
    },
    {
      "cell_type": "markdown",
      "metadata": {
        "id": "LSstHtxyvwiU"
      },
      "source": [
        "## Muestre árbol obtenido en forma de texto."
      ]
    },
    {
      "cell_type": "code",
      "metadata": {
        "id": "SfcKqf_CwrSp"
      },
      "source": [
        "r = export_text(Ad,feature_names=list(X.columns))     #árbol en forma de texto\n",
        "print(r)"
      ],
      "execution_count": null,
      "outputs": []
    },
    {
      "cell_type": "markdown",
      "metadata": {
        "id": "ALl23aaTvgm3"
      },
      "source": [
        "## Exporte el árbol obtenido a un fichero **titanic.pdf**\n",
        "Utilize la libreria graphviz"
      ]
    },
    {
      "cell_type": "markdown",
      "source": [
        "*dot_data* --> indica el árbol que vamos a utilizar como gráfico. Dentro de *graph* le indicamos que se convierta a formato graphiviz y después, con *render* lo \"pintamos\" como pdf."
      ],
      "metadata": {
        "id": "Ximlnn8GK5lk"
      }
    },
    {
      "cell_type": "code",
      "metadata": {
        "id": "lbgWkRWT0sY6"
      },
      "source": [
        "dot_data = tree.export_graphviz(Ad, out_file=None)\n",
        "graph = graphviz.Source(dot_data)\n",
        "graph.render(\"Titanic\")"
      ],
      "execution_count": null,
      "outputs": []
    },
    {
      "cell_type": "markdown",
      "metadata": {
        "id": "_JZCZYsIwAlP"
      },
      "source": [
        "## Muestre de forma enriquecida el árbol obtenido\n",
        "Utilize la libreria graphviz"
      ]
    },
    {
      "cell_type": "code",
      "source": [
        "dot_data = tree.export_graphviz(Ad, out_file=None, \n",
        "                                feature_names=X.columns,\n",
        "                                class_names=['0','1'],\n",
        "                                filled=True, rounded=True,\n",
        "                                special_characters=True)\n",
        "graph = graphviz.Source(dot_data)\n",
        "graph"
      ],
      "metadata": {
        "id": "ompOnW4pKumc"
      },
      "execution_count": null,
      "outputs": []
    },
    {
      "cell_type": "markdown",
      "metadata": {
        "id": "YNShCpe2xv3Y"
      },
      "source": [
        "## ¿Que característas son las más influyentes o decisivas?"
      ]
    },
    {
      "cell_type": "code",
      "metadata": {
        "id": "uVh7iayPx78J"
      },
      "source": [
        "l=list(zip(list(X.columns),Ad.feature_importances_))\n",
        "print(l)"
      ],
      "execution_count": null,
      "outputs": []
    },
    {
      "cell_type": "markdown",
      "source": [
        "Como observamos en el resultado obtenido, las características más influyentes y/o decisivas en cuanto a la superviviencia en el Titanic son la clase en la que viajara el pasajero, la edad de este y por último, la tarifa, es decir, el precio pagado por billete."
      ],
      "metadata": {
        "id": "pT9aCxWgRRVt"
      }
    },
    {
      "cell_type": "markdown",
      "source": [
        "Una característica más pregutemos, es más general y por tanto, la división es más general. "
      ],
      "metadata": {
        "id": "9H8nPJzTNM3T"
      }
    },
    {
      "cell_type": "markdown",
      "metadata": {
        "id": "CgfWp0MWz1og"
      },
      "source": [
        "## Realiza alguna inferencia.\n",
        "Que propone para las filas 5 y 80 del Titanic.csv"
      ]
    },
    {
      "cell_type": "code",
      "metadata": {
        "id": "KtkKlHRM1fzI"
      },
      "source": [
        "X.iloc[[5,80]]"
      ],
      "execution_count": null,
      "outputs": []
    },
    {
      "cell_type": "markdown",
      "source": [
        "x.iloc nos da un dataframe, el cual lo convertiremos en vector con values para poder hacer la predicción:"
      ],
      "metadata": {
        "id": "nTB6RHJNN-NG"
      }
    },
    {
      "cell_type": "code",
      "source": [
        "Ad.predict(X.iloc[[5,80]].values)"
      ],
      "metadata": {
        "id": "A6iq--otNnmK"
      },
      "execution_count": null,
      "outputs": []
    },
    {
      "cell_type": "markdown",
      "source": [
        "#ORANGE TITANIC\n",
        "\n",
        "Nuestros datos se componen de 891 observciones de 9 variables, de las cuales 3 de ellas son metas, es decir, únicamente son informativas.\n",
        "\n",
        "\n",
        "-Importaremos en una tabla que nos permite seleccionar y ordenar según los datos. A su vez, seleccionaremos las columnas en las que estamos interesados (select columns) y pasaremos a target \"Survives\", ya que es la variable que queremos predeccir, mientras que en la parte de arriba irán las características (age, fare y class).[En la línea que une la tabla con select columns seleccionamos data y seleccionamos \"data\" para que nos coja todos los datos].\n",
        "\n",
        "-El siguiente paso será buscar los valores perdidos (NaS) con \"Select Rows\" y debemos poner que todas las variables se encuentran definidas. Una vez que tenemos los datos limpios, procedemos a la división de datos en datos train y datos test con \"Data Sampler\" (70% train) --> obtenemos 500 observacion en train y 214 de test, lo cual podemos encontrar indicado en la parte inferior-derecha. \n",
        "\n",
        "-Una vez tenemos los datos dividios, podemos representarlo con un árbol (tree) y en su unión seleccionaremos \"Data Sampler\" para que únicamente lo haga con los datos seleccionados. Cuando ya lo tenemos creado pasaremos a unirlo con \"Tree viewer\" para poder visualizar el árbol que se ha generado. [En la parte inferior-izquierda encontramos un símbolo con forma de \"disquete\", la cual nos salvará la imágen el árbol creado, mientras que con la función que se encuentra a su derecha podremos salvar todas las opciones que se han generado por capítulos, ya que cada nodo es un capítulo.\n",
        "\n",
        "-Por último, realizamos la predicción con la función \"Predictions\", a la que unimos \"Tree\" y \"Data Sampler\", indicando en la unión con \"Data Sampler\" la opción \"Remaining Data\" para que utilice únicamente los datos de test y no los de entrenamiento. \n",
        "[En la tabla: en la fila 1, las predicciones se representan en color rojo y azul, interpretandose de la siguiente manera: \n",
        "el dato 0.67:0.33 nos indice que el 0.67 corresponde a los pasajeros fallecidos, mientras que el 0.33 corresponde a los pasajeros que consiguieron sobrevivir, reflejandose también en la tabla que se comete un error de un 0.667]"
      ],
      "metadata": {
        "id": "2cnd4i7rLmfW"
      }
    }
  ]
}