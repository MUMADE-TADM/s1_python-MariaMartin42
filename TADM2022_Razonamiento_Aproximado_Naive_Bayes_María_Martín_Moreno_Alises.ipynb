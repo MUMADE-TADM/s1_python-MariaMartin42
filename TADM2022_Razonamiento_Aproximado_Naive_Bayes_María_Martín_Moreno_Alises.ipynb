{
  "nbformat": 4,
  "nbformat_minor": 0,
  "metadata": {
    "colab": {
      "provenance": [],
      "include_colab_link": true
    },
    "kernelspec": {
      "name": "python3",
      "display_name": "Python 3"
    }
  },
  "cells": [
    {
      "cell_type": "markdown",
      "metadata": {
        "id": "view-in-github",
        "colab_type": "text"
      },
      "source": [
        "<a href=\"https://colab.research.google.com/github/MUMADE-TADM/s1_python-MariaMartin42/blob/main/TADM2022_Razonamiento_Aproximado_Naive_Bayes_Mar%C3%ADa_Mart%C3%ADn_Moreno_Alises.ipynb\" target=\"_parent\"><img src=\"https://colab.research.google.com/assets/colab-badge.svg\" alt=\"Open In Colab\"/></a>"
      ]
    },
    {
      "cell_type": "markdown",
      "metadata": {
        "id": "t1s4a8JyqcyP"
      },
      "source": [
        "Vamos a operar de diferentes maneras con los préstamos de nuestro banco, en concreto vamos a intentar crear clasificadores para que dadas unas variables nos den la probabilidad o el rating de darle un préstamo a un cliente"
      ]
    },
    {
      "cell_type": "markdown",
      "metadata": {
        "id": "vpDTzqbaiodK"
      },
      "source": [
        "## Carga de Datos"
      ]
    },
    {
      "cell_type": "code",
      "metadata": {
        "colab": {
          "base_uri": "https://localhost:8080/"
        },
        "id": "lrljckjEtOOm",
        "outputId": "bf9c1f23-d583-4d4a-ca32-b1258ea7a73c"
      },
      "source": [
        "!gdown --id 1Osmr7qVN0NMuqYxvLesNn7H4nqPCVbsU"
      ],
      "execution_count": 1,
      "outputs": [
        {
          "output_type": "stream",
          "name": "stdout",
          "text": [
            "/usr/local/lib/python3.7/dist-packages/gdown/cli.py:131: FutureWarning: Option `--id` was deprecated in version 4.3.1 and will be removed in 5.0. You don't need to pass it anymore to use a file ID.\n",
            "  category=FutureWarning,\n",
            "Downloading...\n",
            "From: https://drive.google.com/uc?id=1Osmr7qVN0NMuqYxvLesNn7H4nqPCVbsU\n",
            "To: /content/data_berka.db\n",
            "100% 70.2M/70.2M [00:00<00:00, 247MB/s]\n"
          ]
        }
      ]
    },
    {
      "cell_type": "markdown",
      "metadata": {
        "id": "UDaOStdPirkZ"
      },
      "source": [
        "1. Cargamos la extensión sql"
      ]
    },
    {
      "cell_type": "code",
      "metadata": {
        "id": "3Zpf7lz5h7wp"
      },
      "source": [
        "%load_ext sql"
      ],
      "execution_count": 2,
      "outputs": []
    },
    {
      "cell_type": "markdown",
      "metadata": {
        "id": "zPGw5HdqiuHI"
      },
      "source": [
        "2. Nos conectamos con la base de datos"
      ]
    },
    {
      "cell_type": "code",
      "metadata": {
        "id": "ADklBjhhiPLE",
        "colab": {
          "base_uri": "https://localhost:8080/",
          "height": 36
        },
        "outputId": "f3ca18c1-9e8e-4b5c-c0d0-2a6ff0668b22"
      },
      "source": [
        "%sql sqlite:///data_berka.db"
      ],
      "execution_count": 3,
      "outputs": [
        {
          "output_type": "execute_result",
          "data": {
            "text/plain": [
              "'Connected: @data_berka.db'"
            ],
            "application/vnd.google.colaboratory.intrinsic+json": {
              "type": "string"
            }
          },
          "metadata": {},
          "execution_count": 3
        }
      ]
    },
    {
      "cell_type": "markdown",
      "metadata": {
        "id": "oQlROt7Uidms"
      },
      "source": [
        "> Datos de préstamos ya finalizados con su estado final, incluyendo datos del distrito, etc."
      ]
    },
    {
      "cell_type": "markdown",
      "source": [
        "¿Cuántos préstamos hay por cada estado?"
      ],
      "metadata": {
        "id": "iq0ZnTlWlN1s"
      }
    },
    {
      "cell_type": "code",
      "source": [
        "%%sql \n",
        "SELECT status, count(*) as total\n",
        "FROM LOAN\n",
        "GROUP BY status\n",
        "ORDER BY total DESC"
      ],
      "metadata": {
        "id": "75QG92jrlNcH",
        "colab": {
          "base_uri": "https://localhost:8080/",
          "height": 158
        },
        "outputId": "f3b0a6e9-ea4a-4c5f-9e6d-928bfddf9773"
      },
      "execution_count": 4,
      "outputs": [
        {
          "output_type": "stream",
          "name": "stdout",
          "text": [
            " * sqlite:///data_berka.db\n",
            "Done.\n"
          ]
        },
        {
          "output_type": "execute_result",
          "data": {
            "text/plain": [
              "[('C', 403), ('A', 203), ('D', 45), ('B', 31)]"
            ],
            "text/html": [
              "<table>\n",
              "    <thead>\n",
              "        <tr>\n",
              "            <th>status</th>\n",
              "            <th>total</th>\n",
              "        </tr>\n",
              "    </thead>\n",
              "    <tbody>\n",
              "        <tr>\n",
              "            <td>C</td>\n",
              "            <td>403</td>\n",
              "        </tr>\n",
              "        <tr>\n",
              "            <td>A</td>\n",
              "            <td>203</td>\n",
              "        </tr>\n",
              "        <tr>\n",
              "            <td>D</td>\n",
              "            <td>45</td>\n",
              "        </tr>\n",
              "        <tr>\n",
              "            <td>B</td>\n",
              "            <td>31</td>\n",
              "        </tr>\n",
              "    </tbody>\n",
              "</table>"
            ]
          },
          "metadata": {},
          "execution_count": 4
        }
      ]
    },
    {
      "cell_type": "markdown",
      "source": [
        "Vamos a empezar obteniendo los datos de los préstamos ya finalizados. Van a ser nuestros datos de entrenamiento. Por lo que seleccionaremos únicamente aquellos préstamos en status 'A' o 'B'. \n",
        "\n",
        "Con una sentencia CASE vamos a poner los prestamos finalizados bien a 1 y los que no finalizaron bien a 0. \n",
        "\n",
        "Sintaxis de uso de [INNER JOIN](https://www.sqlitetutorial.net/sqlite-inner-join/) para establecer joins entre tablas"
      ],
      "metadata": {
        "id": "roYYO_h9kH0d"
      }
    },
    {
      "cell_type": "code",
      "metadata": {
        "id": "dbTj5fJxiasa",
        "colab": {
          "base_uri": "https://localhost:8080/"
        },
        "outputId": "ed312c68-ccc3-4fbe-8915-836abc53cc15"
      },
      "source": [
        "%%sql loans_train << SELECT substr(l.date,0,3) year, amount, duration, payments, A11, A13,\n",
        "  CASE status WHEN 'A' THEN 1\n",
        "              WHEN 'B' THEN 0\n",
        "\n",
        "  END label\n",
        "  FROM LOAN l, ACCOUNT a INNER JOIN DISTRICT d on a.district_id = d.A1 \n",
        "  WHERE l.account_id = a.account_id and l.status in (\"A\", \"B\")"
      ],
      "execution_count": 5,
      "outputs": [
        {
          "output_type": "stream",
          "name": "stdout",
          "text": [
            " * sqlite:///data_berka.db\n",
            "Done.\n",
            "Returning data to local variable loans_train\n"
          ]
        }
      ]
    },
    {
      "cell_type": "markdown",
      "metadata": {
        "id": "Jj_-Qp_yiyeB"
      },
      "source": [
        "3. Obtenemos el DataFrame"
      ]
    },
    {
      "cell_type": "code",
      "metadata": {
        "id": "EgN-fsjUimKL",
        "colab": {
          "base_uri": "https://localhost:8080/",
          "height": 206
        },
        "outputId": "33b6d63a-3e8e-46fb-ff5c-d6b06601d243"
      },
      "source": [
        "df_train = loans_train.DataFrame()\n",
        "df_train.head()"
      ],
      "execution_count": 6,
      "outputs": [
        {
          "output_type": "execute_result",
          "data": {
            "text/plain": [
              "  year  amount  duration  payments    A11   A13  label\n",
              "0   93   96396        12      8033   9650  3.67      0\n",
              "1   93  165960        36      4610   8369  2.31      1\n",
              "2   93  127080        60      2118   8390  2.89      1\n",
              "3   93  105804        36      2939   8754  4.31      1\n",
              "4   93  274740        60      4579  12541  0.43      1"
            ],
            "text/html": [
              "\n",
              "  <div id=\"df-7f9e0b6d-9599-46e8-a899-57454607aac6\">\n",
              "    <div class=\"colab-df-container\">\n",
              "      <div>\n",
              "<style scoped>\n",
              "    .dataframe tbody tr th:only-of-type {\n",
              "        vertical-align: middle;\n",
              "    }\n",
              "\n",
              "    .dataframe tbody tr th {\n",
              "        vertical-align: top;\n",
              "    }\n",
              "\n",
              "    .dataframe thead th {\n",
              "        text-align: right;\n",
              "    }\n",
              "</style>\n",
              "<table border=\"1\" class=\"dataframe\">\n",
              "  <thead>\n",
              "    <tr style=\"text-align: right;\">\n",
              "      <th></th>\n",
              "      <th>year</th>\n",
              "      <th>amount</th>\n",
              "      <th>duration</th>\n",
              "      <th>payments</th>\n",
              "      <th>A11</th>\n",
              "      <th>A13</th>\n",
              "      <th>label</th>\n",
              "    </tr>\n",
              "  </thead>\n",
              "  <tbody>\n",
              "    <tr>\n",
              "      <th>0</th>\n",
              "      <td>93</td>\n",
              "      <td>96396</td>\n",
              "      <td>12</td>\n",
              "      <td>8033</td>\n",
              "      <td>9650</td>\n",
              "      <td>3.67</td>\n",
              "      <td>0</td>\n",
              "    </tr>\n",
              "    <tr>\n",
              "      <th>1</th>\n",
              "      <td>93</td>\n",
              "      <td>165960</td>\n",
              "      <td>36</td>\n",
              "      <td>4610</td>\n",
              "      <td>8369</td>\n",
              "      <td>2.31</td>\n",
              "      <td>1</td>\n",
              "    </tr>\n",
              "    <tr>\n",
              "      <th>2</th>\n",
              "      <td>93</td>\n",
              "      <td>127080</td>\n",
              "      <td>60</td>\n",
              "      <td>2118</td>\n",
              "      <td>8390</td>\n",
              "      <td>2.89</td>\n",
              "      <td>1</td>\n",
              "    </tr>\n",
              "    <tr>\n",
              "      <th>3</th>\n",
              "      <td>93</td>\n",
              "      <td>105804</td>\n",
              "      <td>36</td>\n",
              "      <td>2939</td>\n",
              "      <td>8754</td>\n",
              "      <td>4.31</td>\n",
              "      <td>1</td>\n",
              "    </tr>\n",
              "    <tr>\n",
              "      <th>4</th>\n",
              "      <td>93</td>\n",
              "      <td>274740</td>\n",
              "      <td>60</td>\n",
              "      <td>4579</td>\n",
              "      <td>12541</td>\n",
              "      <td>0.43</td>\n",
              "      <td>1</td>\n",
              "    </tr>\n",
              "  </tbody>\n",
              "</table>\n",
              "</div>\n",
              "      <button class=\"colab-df-convert\" onclick=\"convertToInteractive('df-7f9e0b6d-9599-46e8-a899-57454607aac6')\"\n",
              "              title=\"Convert this dataframe to an interactive table.\"\n",
              "              style=\"display:none;\">\n",
              "        \n",
              "  <svg xmlns=\"http://www.w3.org/2000/svg\" height=\"24px\"viewBox=\"0 0 24 24\"\n",
              "       width=\"24px\">\n",
              "    <path d=\"M0 0h24v24H0V0z\" fill=\"none\"/>\n",
              "    <path d=\"M18.56 5.44l.94 2.06.94-2.06 2.06-.94-2.06-.94-.94-2.06-.94 2.06-2.06.94zm-11 1L8.5 8.5l.94-2.06 2.06-.94-2.06-.94L8.5 2.5l-.94 2.06-2.06.94zm10 10l.94 2.06.94-2.06 2.06-.94-2.06-.94-.94-2.06-.94 2.06-2.06.94z\"/><path d=\"M17.41 7.96l-1.37-1.37c-.4-.4-.92-.59-1.43-.59-.52 0-1.04.2-1.43.59L10.3 9.45l-7.72 7.72c-.78.78-.78 2.05 0 2.83L4 21.41c.39.39.9.59 1.41.59.51 0 1.02-.2 1.41-.59l7.78-7.78 2.81-2.81c.8-.78.8-2.07 0-2.86zM5.41 20L4 18.59l7.72-7.72 1.47 1.35L5.41 20z\"/>\n",
              "  </svg>\n",
              "      </button>\n",
              "      \n",
              "  <style>\n",
              "    .colab-df-container {\n",
              "      display:flex;\n",
              "      flex-wrap:wrap;\n",
              "      gap: 12px;\n",
              "    }\n",
              "\n",
              "    .colab-df-convert {\n",
              "      background-color: #E8F0FE;\n",
              "      border: none;\n",
              "      border-radius: 50%;\n",
              "      cursor: pointer;\n",
              "      display: none;\n",
              "      fill: #1967D2;\n",
              "      height: 32px;\n",
              "      padding: 0 0 0 0;\n",
              "      width: 32px;\n",
              "    }\n",
              "\n",
              "    .colab-df-convert:hover {\n",
              "      background-color: #E2EBFA;\n",
              "      box-shadow: 0px 1px 2px rgba(60, 64, 67, 0.3), 0px 1px 3px 1px rgba(60, 64, 67, 0.15);\n",
              "      fill: #174EA6;\n",
              "    }\n",
              "\n",
              "    [theme=dark] .colab-df-convert {\n",
              "      background-color: #3B4455;\n",
              "      fill: #D2E3FC;\n",
              "    }\n",
              "\n",
              "    [theme=dark] .colab-df-convert:hover {\n",
              "      background-color: #434B5C;\n",
              "      box-shadow: 0px 1px 3px 1px rgba(0, 0, 0, 0.15);\n",
              "      filter: drop-shadow(0px 1px 2px rgba(0, 0, 0, 0.3));\n",
              "      fill: #FFFFFF;\n",
              "    }\n",
              "  </style>\n",
              "\n",
              "      <script>\n",
              "        const buttonEl =\n",
              "          document.querySelector('#df-7f9e0b6d-9599-46e8-a899-57454607aac6 button.colab-df-convert');\n",
              "        buttonEl.style.display =\n",
              "          google.colab.kernel.accessAllowed ? 'block' : 'none';\n",
              "\n",
              "        async function convertToInteractive(key) {\n",
              "          const element = document.querySelector('#df-7f9e0b6d-9599-46e8-a899-57454607aac6');\n",
              "          const dataTable =\n",
              "            await google.colab.kernel.invokeFunction('convertToInteractive',\n",
              "                                                     [key], {});\n",
              "          if (!dataTable) return;\n",
              "\n",
              "          const docLinkHtml = 'Like what you see? Visit the ' +\n",
              "            '<a target=\"_blank\" href=https://colab.research.google.com/notebooks/data_table.ipynb>data table notebook</a>'\n",
              "            + ' to learn more about interactive tables.';\n",
              "          element.innerHTML = '';\n",
              "          dataTable['output_type'] = 'display_data';\n",
              "          await google.colab.output.renderOutput(dataTable, element);\n",
              "          const docLink = document.createElement('div');\n",
              "          docLink.innerHTML = docLinkHtml;\n",
              "          element.appendChild(docLink);\n",
              "        }\n",
              "      </script>\n",
              "    </div>\n",
              "  </div>\n",
              "  "
            ]
          },
          "metadata": {},
          "execution_count": 6
        }
      ]
    },
    {
      "cell_type": "code",
      "source": [
        "df_train.shape"
      ],
      "metadata": {
        "colab": {
          "base_uri": "https://localhost:8080/"
        },
        "id": "75rgtscNqQ3T",
        "outputId": "106e99c8-36d2-4842-fe1a-743fefee258f"
      },
      "execution_count": 7,
      "outputs": [
        {
          "output_type": "execute_result",
          "data": {
            "text/plain": [
              "(234, 7)"
            ]
          },
          "metadata": {},
          "execution_count": 7
        }
      ]
    },
    {
      "cell_type": "code",
      "source": [
        "%%sql loans_test << SELECT substr(l.date,0,3) year, amount, duration, payments, A11, A13, \n",
        "  CASE status WHEN 'C' THEN 1\n",
        "              WHEN 'D' THEN 0\n",
        "  END label\n",
        "  FROM LOAN l, ACCOUNT a INNER JOIN DISTRICT d on a.district_id = d.A1 \n",
        "  WHERE l.account_id = a.account_id and l.status in (\"C\", \"D\")"
      ],
      "metadata": {
        "colab": {
          "base_uri": "https://localhost:8080/"
        },
        "id": "i65WhpR4k9fk",
        "outputId": "5839a16c-8ddc-41ca-b7a4-0355f1065985"
      },
      "execution_count": 8,
      "outputs": [
        {
          "output_type": "stream",
          "name": "stdout",
          "text": [
            " * sqlite:///data_berka.db\n",
            "Done.\n",
            "Returning data to local variable loans_test\n"
          ]
        }
      ]
    },
    {
      "cell_type": "markdown",
      "source": [
        "Ejercicio: Añadir la edad del cliente propietario de la cuenta del prestamo.\n"
      ],
      "metadata": {
        "id": "6qRaWxnkcLC3"
      }
    },
    {
      "cell_type": "code",
      "source": [
        "%%sql\n",
        "SELECT substr(l.date,0,3) year, amount, duration, payments, A11, A13,\n",
        "CASE status WHEN 'A' THEN 1\n",
        "            WHEN 'B' THEN 0\n",
        "END label \n",
        "FROM LOAN l, ACCOUNT a, DISTRICT d, CLIENT c, DISPOSITION disp\n",
        "WHERE c.district_id = d.A1\n",
        "AND l.account_id = a.account_id \n",
        "AND a.account_id = disp.account_id\n",
        "AND disp.client_id = c.client_id\n",
        "AND l.status in (\"A\", \"B\")\n",
        "LIMIT 20"
      ],
      "metadata": {
        "colab": {
          "base_uri": "https://localhost:8080/",
          "height": 493
        },
        "id": "eLEXxYThlJXP",
        "outputId": "ccb27281-df30-4a0c-ff9f-ccc470892ca6"
      },
      "execution_count": 9,
      "outputs": [
        {
          "output_type": "stream",
          "name": "stdout",
          "text": [
            " * sqlite:///data_berka.db\n",
            "Done.\n"
          ]
        },
        {
          "output_type": "execute_result",
          "data": {
            "text/plain": [
              "[('94', 80952, 24, 3373, 12541, 0.43, 1),\n",
              " ('94', 80952, 24, 3373, 12541, 0.43, 1),\n",
              " ('96', 30276, 12, 2523, 9104, 2.07, 0),\n",
              " ('97', 30276, 12, 2523, 9893, 4.72, 1),\n",
              " ('96', 165960, 24, 6915, 8427, 1.54, 1),\n",
              " ('97', 102876, 12, 8573, 10673, 5.44, 1),\n",
              " ('97', 102876, 12, 8573, 10673, 5.44, 1),\n",
              " ('96', 88440, 12, 7370, 9317, 7.07, 1),\n",
              " ('96', 88440, 12, 7370, 9317, 7.07, 1),\n",
              " ('94', 104808, 12, 8734, 8512, 4.12, 1),\n",
              " ('94', 104808, 12, 8734, 8512, 4.12, 1),\n",
              " ('97', 27456, 12, 2288, 8678, 5.57, 1),\n",
              " ('94', 123696, 48, 2577, 8772, 4.98, 1),\n",
              " ('95', 187224, 24, 7801, 12541, 0.43, 0),\n",
              " ('96', 91152, 24, 3798, 9272, 3.22, 1),\n",
              " ('97', 12540, 12, 1045, 8561, 1.29, 1),\n",
              " ('97', 12540, 12, 1045, 8561, 1.29, 1),\n",
              " ('97', 76944, 12, 6412, 12541, 0.43, 1),\n",
              " ('94', 208128, 48, 4336, 9897, 1.96, 0),\n",
              " ('94', 24312, 12, 2026, 8427, 1.54, 1)]"
            ],
            "text/html": [
              "<table>\n",
              "    <thead>\n",
              "        <tr>\n",
              "            <th>year</th>\n",
              "            <th>amount</th>\n",
              "            <th>duration</th>\n",
              "            <th>payments</th>\n",
              "            <th>A11</th>\n",
              "            <th>A13</th>\n",
              "            <th>label</th>\n",
              "        </tr>\n",
              "    </thead>\n",
              "    <tbody>\n",
              "        <tr>\n",
              "            <td>94</td>\n",
              "            <td>80952</td>\n",
              "            <td>24</td>\n",
              "            <td>3373</td>\n",
              "            <td>12541</td>\n",
              "            <td>0.43</td>\n",
              "            <td>1</td>\n",
              "        </tr>\n",
              "        <tr>\n",
              "            <td>94</td>\n",
              "            <td>80952</td>\n",
              "            <td>24</td>\n",
              "            <td>3373</td>\n",
              "            <td>12541</td>\n",
              "            <td>0.43</td>\n",
              "            <td>1</td>\n",
              "        </tr>\n",
              "        <tr>\n",
              "            <td>96</td>\n",
              "            <td>30276</td>\n",
              "            <td>12</td>\n",
              "            <td>2523</td>\n",
              "            <td>9104</td>\n",
              "            <td>2.07</td>\n",
              "            <td>0</td>\n",
              "        </tr>\n",
              "        <tr>\n",
              "            <td>97</td>\n",
              "            <td>30276</td>\n",
              "            <td>12</td>\n",
              "            <td>2523</td>\n",
              "            <td>9893</td>\n",
              "            <td>4.72</td>\n",
              "            <td>1</td>\n",
              "        </tr>\n",
              "        <tr>\n",
              "            <td>96</td>\n",
              "            <td>165960</td>\n",
              "            <td>24</td>\n",
              "            <td>6915</td>\n",
              "            <td>8427</td>\n",
              "            <td>1.54</td>\n",
              "            <td>1</td>\n",
              "        </tr>\n",
              "        <tr>\n",
              "            <td>97</td>\n",
              "            <td>102876</td>\n",
              "            <td>12</td>\n",
              "            <td>8573</td>\n",
              "            <td>10673</td>\n",
              "            <td>5.44</td>\n",
              "            <td>1</td>\n",
              "        </tr>\n",
              "        <tr>\n",
              "            <td>97</td>\n",
              "            <td>102876</td>\n",
              "            <td>12</td>\n",
              "            <td>8573</td>\n",
              "            <td>10673</td>\n",
              "            <td>5.44</td>\n",
              "            <td>1</td>\n",
              "        </tr>\n",
              "        <tr>\n",
              "            <td>96</td>\n",
              "            <td>88440</td>\n",
              "            <td>12</td>\n",
              "            <td>7370</td>\n",
              "            <td>9317</td>\n",
              "            <td>7.07</td>\n",
              "            <td>1</td>\n",
              "        </tr>\n",
              "        <tr>\n",
              "            <td>96</td>\n",
              "            <td>88440</td>\n",
              "            <td>12</td>\n",
              "            <td>7370</td>\n",
              "            <td>9317</td>\n",
              "            <td>7.07</td>\n",
              "            <td>1</td>\n",
              "        </tr>\n",
              "        <tr>\n",
              "            <td>94</td>\n",
              "            <td>104808</td>\n",
              "            <td>12</td>\n",
              "            <td>8734</td>\n",
              "            <td>8512</td>\n",
              "            <td>4.12</td>\n",
              "            <td>1</td>\n",
              "        </tr>\n",
              "        <tr>\n",
              "            <td>94</td>\n",
              "            <td>104808</td>\n",
              "            <td>12</td>\n",
              "            <td>8734</td>\n",
              "            <td>8512</td>\n",
              "            <td>4.12</td>\n",
              "            <td>1</td>\n",
              "        </tr>\n",
              "        <tr>\n",
              "            <td>97</td>\n",
              "            <td>27456</td>\n",
              "            <td>12</td>\n",
              "            <td>2288</td>\n",
              "            <td>8678</td>\n",
              "            <td>5.57</td>\n",
              "            <td>1</td>\n",
              "        </tr>\n",
              "        <tr>\n",
              "            <td>94</td>\n",
              "            <td>123696</td>\n",
              "            <td>48</td>\n",
              "            <td>2577</td>\n",
              "            <td>8772</td>\n",
              "            <td>4.98</td>\n",
              "            <td>1</td>\n",
              "        </tr>\n",
              "        <tr>\n",
              "            <td>95</td>\n",
              "            <td>187224</td>\n",
              "            <td>24</td>\n",
              "            <td>7801</td>\n",
              "            <td>12541</td>\n",
              "            <td>0.43</td>\n",
              "            <td>0</td>\n",
              "        </tr>\n",
              "        <tr>\n",
              "            <td>96</td>\n",
              "            <td>91152</td>\n",
              "            <td>24</td>\n",
              "            <td>3798</td>\n",
              "            <td>9272</td>\n",
              "            <td>3.22</td>\n",
              "            <td>1</td>\n",
              "        </tr>\n",
              "        <tr>\n",
              "            <td>97</td>\n",
              "            <td>12540</td>\n",
              "            <td>12</td>\n",
              "            <td>1045</td>\n",
              "            <td>8561</td>\n",
              "            <td>1.29</td>\n",
              "            <td>1</td>\n",
              "        </tr>\n",
              "        <tr>\n",
              "            <td>97</td>\n",
              "            <td>12540</td>\n",
              "            <td>12</td>\n",
              "            <td>1045</td>\n",
              "            <td>8561</td>\n",
              "            <td>1.29</td>\n",
              "            <td>1</td>\n",
              "        </tr>\n",
              "        <tr>\n",
              "            <td>97</td>\n",
              "            <td>76944</td>\n",
              "            <td>12</td>\n",
              "            <td>6412</td>\n",
              "            <td>12541</td>\n",
              "            <td>0.43</td>\n",
              "            <td>1</td>\n",
              "        </tr>\n",
              "        <tr>\n",
              "            <td>94</td>\n",
              "            <td>208128</td>\n",
              "            <td>48</td>\n",
              "            <td>4336</td>\n",
              "            <td>9897</td>\n",
              "            <td>1.96</td>\n",
              "            <td>0</td>\n",
              "        </tr>\n",
              "        <tr>\n",
              "            <td>94</td>\n",
              "            <td>24312</td>\n",
              "            <td>12</td>\n",
              "            <td>2026</td>\n",
              "            <td>8427</td>\n",
              "            <td>1.54</td>\n",
              "            <td>1</td>\n",
              "        </tr>\n",
              "    </tbody>\n",
              "</table>"
            ]
          },
          "metadata": {},
          "execution_count": 9
        }
      ]
    },
    {
      "cell_type": "code",
      "source": [
        "df_test = loans_test.DataFrame()\n",
        "df_test.head()"
      ],
      "metadata": {
        "colab": {
          "base_uri": "https://localhost:8080/",
          "height": 206
        },
        "id": "dpwgRcLZlJvp",
        "outputId": "06beb775-0b8a-48e3-de53-ee3afd956d6a"
      },
      "execution_count": 10,
      "outputs": [
        {
          "output_type": "execute_result",
          "data": {
            "text/plain": [
              "  year  amount  duration  payments   A11   A13  label\n",
              "0   94  253200        60      4220  9893  4.72      1\n",
              "1   94  300660        60      5011  9317  7.07      1\n",
              "2   94  167100        60      2785  8544  1.86      1\n",
              "3   94  149340        60      2489  8254  3.76      1\n",
              "4   94   89040        60      1484  8909  5.56      1"
            ],
            "text/html": [
              "\n",
              "  <div id=\"df-e6169acd-1402-490e-8789-0f5cc60cc3b8\">\n",
              "    <div class=\"colab-df-container\">\n",
              "      <div>\n",
              "<style scoped>\n",
              "    .dataframe tbody tr th:only-of-type {\n",
              "        vertical-align: middle;\n",
              "    }\n",
              "\n",
              "    .dataframe tbody tr th {\n",
              "        vertical-align: top;\n",
              "    }\n",
              "\n",
              "    .dataframe thead th {\n",
              "        text-align: right;\n",
              "    }\n",
              "</style>\n",
              "<table border=\"1\" class=\"dataframe\">\n",
              "  <thead>\n",
              "    <tr style=\"text-align: right;\">\n",
              "      <th></th>\n",
              "      <th>year</th>\n",
              "      <th>amount</th>\n",
              "      <th>duration</th>\n",
              "      <th>payments</th>\n",
              "      <th>A11</th>\n",
              "      <th>A13</th>\n",
              "      <th>label</th>\n",
              "    </tr>\n",
              "  </thead>\n",
              "  <tbody>\n",
              "    <tr>\n",
              "      <th>0</th>\n",
              "      <td>94</td>\n",
              "      <td>253200</td>\n",
              "      <td>60</td>\n",
              "      <td>4220</td>\n",
              "      <td>9893</td>\n",
              "      <td>4.72</td>\n",
              "      <td>1</td>\n",
              "    </tr>\n",
              "    <tr>\n",
              "      <th>1</th>\n",
              "      <td>94</td>\n",
              "      <td>300660</td>\n",
              "      <td>60</td>\n",
              "      <td>5011</td>\n",
              "      <td>9317</td>\n",
              "      <td>7.07</td>\n",
              "      <td>1</td>\n",
              "    </tr>\n",
              "    <tr>\n",
              "      <th>2</th>\n",
              "      <td>94</td>\n",
              "      <td>167100</td>\n",
              "      <td>60</td>\n",
              "      <td>2785</td>\n",
              "      <td>8544</td>\n",
              "      <td>1.86</td>\n",
              "      <td>1</td>\n",
              "    </tr>\n",
              "    <tr>\n",
              "      <th>3</th>\n",
              "      <td>94</td>\n",
              "      <td>149340</td>\n",
              "      <td>60</td>\n",
              "      <td>2489</td>\n",
              "      <td>8254</td>\n",
              "      <td>3.76</td>\n",
              "      <td>1</td>\n",
              "    </tr>\n",
              "    <tr>\n",
              "      <th>4</th>\n",
              "      <td>94</td>\n",
              "      <td>89040</td>\n",
              "      <td>60</td>\n",
              "      <td>1484</td>\n",
              "      <td>8909</td>\n",
              "      <td>5.56</td>\n",
              "      <td>1</td>\n",
              "    </tr>\n",
              "  </tbody>\n",
              "</table>\n",
              "</div>\n",
              "      <button class=\"colab-df-convert\" onclick=\"convertToInteractive('df-e6169acd-1402-490e-8789-0f5cc60cc3b8')\"\n",
              "              title=\"Convert this dataframe to an interactive table.\"\n",
              "              style=\"display:none;\">\n",
              "        \n",
              "  <svg xmlns=\"http://www.w3.org/2000/svg\" height=\"24px\"viewBox=\"0 0 24 24\"\n",
              "       width=\"24px\">\n",
              "    <path d=\"M0 0h24v24H0V0z\" fill=\"none\"/>\n",
              "    <path d=\"M18.56 5.44l.94 2.06.94-2.06 2.06-.94-2.06-.94-.94-2.06-.94 2.06-2.06.94zm-11 1L8.5 8.5l.94-2.06 2.06-.94-2.06-.94L8.5 2.5l-.94 2.06-2.06.94zm10 10l.94 2.06.94-2.06 2.06-.94-2.06-.94-.94-2.06-.94 2.06-2.06.94z\"/><path d=\"M17.41 7.96l-1.37-1.37c-.4-.4-.92-.59-1.43-.59-.52 0-1.04.2-1.43.59L10.3 9.45l-7.72 7.72c-.78.78-.78 2.05 0 2.83L4 21.41c.39.39.9.59 1.41.59.51 0 1.02-.2 1.41-.59l7.78-7.78 2.81-2.81c.8-.78.8-2.07 0-2.86zM5.41 20L4 18.59l7.72-7.72 1.47 1.35L5.41 20z\"/>\n",
              "  </svg>\n",
              "      </button>\n",
              "      \n",
              "  <style>\n",
              "    .colab-df-container {\n",
              "      display:flex;\n",
              "      flex-wrap:wrap;\n",
              "      gap: 12px;\n",
              "    }\n",
              "\n",
              "    .colab-df-convert {\n",
              "      background-color: #E8F0FE;\n",
              "      border: none;\n",
              "      border-radius: 50%;\n",
              "      cursor: pointer;\n",
              "      display: none;\n",
              "      fill: #1967D2;\n",
              "      height: 32px;\n",
              "      padding: 0 0 0 0;\n",
              "      width: 32px;\n",
              "    }\n",
              "\n",
              "    .colab-df-convert:hover {\n",
              "      background-color: #E2EBFA;\n",
              "      box-shadow: 0px 1px 2px rgba(60, 64, 67, 0.3), 0px 1px 3px 1px rgba(60, 64, 67, 0.15);\n",
              "      fill: #174EA6;\n",
              "    }\n",
              "\n",
              "    [theme=dark] .colab-df-convert {\n",
              "      background-color: #3B4455;\n",
              "      fill: #D2E3FC;\n",
              "    }\n",
              "\n",
              "    [theme=dark] .colab-df-convert:hover {\n",
              "      background-color: #434B5C;\n",
              "      box-shadow: 0px 1px 3px 1px rgba(0, 0, 0, 0.15);\n",
              "      filter: drop-shadow(0px 1px 2px rgba(0, 0, 0, 0.3));\n",
              "      fill: #FFFFFF;\n",
              "    }\n",
              "  </style>\n",
              "\n",
              "      <script>\n",
              "        const buttonEl =\n",
              "          document.querySelector('#df-e6169acd-1402-490e-8789-0f5cc60cc3b8 button.colab-df-convert');\n",
              "        buttonEl.style.display =\n",
              "          google.colab.kernel.accessAllowed ? 'block' : 'none';\n",
              "\n",
              "        async function convertToInteractive(key) {\n",
              "          const element = document.querySelector('#df-e6169acd-1402-490e-8789-0f5cc60cc3b8');\n",
              "          const dataTable =\n",
              "            await google.colab.kernel.invokeFunction('convertToInteractive',\n",
              "                                                     [key], {});\n",
              "          if (!dataTable) return;\n",
              "\n",
              "          const docLinkHtml = 'Like what you see? Visit the ' +\n",
              "            '<a target=\"_blank\" href=https://colab.research.google.com/notebooks/data_table.ipynb>data table notebook</a>'\n",
              "            + ' to learn more about interactive tables.';\n",
              "          element.innerHTML = '';\n",
              "          dataTable['output_type'] = 'display_data';\n",
              "          await google.colab.output.renderOutput(dataTable, element);\n",
              "          const docLink = document.createElement('div');\n",
              "          docLink.innerHTML = docLinkHtml;\n",
              "          element.appendChild(docLink);\n",
              "        }\n",
              "      </script>\n",
              "    </div>\n",
              "  </div>\n",
              "  "
            ]
          },
          "metadata": {},
          "execution_count": 10
        }
      ]
    },
    {
      "cell_type": "markdown",
      "metadata": {
        "id": "AcgHrYibsQn3"
      },
      "source": [
        "4. División de los datos en entrenamiento y test"
      ]
    },
    {
      "cell_type": "code",
      "source": [
        "features = [\"year\", \"amount\", \"duration\", \"payments\",\"A11\", \"A13\"]"
      ],
      "metadata": {
        "id": "mH1b4h27kA85"
      },
      "execution_count": 11,
      "outputs": []
    },
    {
      "cell_type": "code",
      "metadata": {
        "id": "iRV2W22-sTKg"
      },
      "source": [
        "X_train = df_train[features]\n",
        "y_train = df_train[\"label\"]\n",
        "\n",
        "X_test = df_test[features]\n",
        "y_test = df_test[\"label\"]\n"
      ],
      "execution_count": 12,
      "outputs": []
    },
    {
      "cell_type": "markdown",
      "source": [
        "5. Normalizarlos puede ser una buena medida para obtener mejores resultados.\n",
        "Para ello vamos a utilizar el [StandardScaler](https://scikit-learn.org/stable/modules/generated/sklearn.preprocessing.StandardScaler.html)\n",
        "\n",
        "El centrado y el escalado se realizan de forma independiente en cada característica, calculando las estadísticas pertinentes en las muestras del **conjunto de entrenamiento**. La media y la desviación estándar se almacenan para utilizarlas en datos posteriores mediante una **transformación**.\n",
        "\n",
        "Mas información sobre normalización en el siguiente [enlace](https://scikit-learn.org/stable/modules/preprocessing.html#preprocessing-scaler)\n"
      ],
      "metadata": {
        "id": "TWn1Xr-Cqas7"
      }
    },
    {
      "cell_type": "code",
      "source": [
        "from sklearn.preprocessing import StandardScaler\n",
        "scaler = StandardScaler()\n",
        "# calculo de los factores de centrado y escalado\n",
        "scaler.fit(X_train) \n",
        "# transformación\n",
        "X_train = scaler.transform(X_train)\n",
        "X_test = scaler.transform(X_test)"
      ],
      "metadata": {
        "id": "BaaMrekmpKH3"
      },
      "execution_count": 13,
      "outputs": []
    },
    {
      "cell_type": "markdown",
      "source": [
        "Aplicamos un modelo [NaiveBayes](https://scikit-learn.org/stable/modules/naive_bayes.html?highlight=naive+bayes) para construir un clasificador de préstamos"
      ],
      "metadata": {
        "id": "Uf-IVArsl8qM"
      }
    },
    {
      "cell_type": "code",
      "source": [
        "from sklearn.naive_bayes import GaussianNB #, MultinomialNB, BernoulliNB, ComplementNB\n",
        "\n",
        "gnb = GaussianNB()\n",
        "clf = gnb.fit(X_train, y_train)\n",
        "y_pred = clf.predict(X_test)\n",
        "print(\"Número de préstamos clasificados erroneamente %d de un total de  %d\"  % (X_test.shape[0], (y_test != y_pred).sum()))\n"
      ],
      "metadata": {
        "colab": {
          "base_uri": "https://localhost:8080/"
        },
        "id": "MZHrLj9inBOv",
        "outputId": "ac0cea6c-a548-40ff-aaad-9a1de847849b"
      },
      "execution_count": 14,
      "outputs": [
        {
          "output_type": "stream",
          "name": "stdout",
          "text": [
            "Número de préstamos clasificados erroneamente 448 de un total de  123\n"
          ]
        }
      ]
    },
    {
      "cell_type": "markdown",
      "source": [
        "Para ver que resultados tenemos sobre la colección de `test` utilizamos en primer lugar el informe de los resultados [`classification report`](https://scikit-learn.org/stable/modules/model_evaluation.html#classification-report)"
      ],
      "metadata": {
        "id": "sSXcCuddmOFV"
      }
    },
    {
      "cell_type": "code",
      "source": [
        "from sklearn.metrics import classification_report\n",
        "print(classification_report(y_test, y_pred, labels=clf.classes_))"
      ],
      "metadata": {
        "colab": {
          "base_uri": "https://localhost:8080/"
        },
        "id": "f9BITuBznBAC",
        "outputId": "e8413b85-8efd-426d-bb87-4ba1a4153363"
      },
      "execution_count": 15,
      "outputs": [
        {
          "output_type": "stream",
          "name": "stdout",
          "text": [
            "              precision    recall  f1-score   support\n",
            "\n",
            "           0       0.20      0.60      0.31        45\n",
            "           1       0.94      0.74      0.83       403\n",
            "\n",
            "    accuracy                           0.73       448\n",
            "   macro avg       0.57      0.67      0.57       448\n",
            "weighted avg       0.87      0.73      0.78       448\n",
            "\n"
          ]
        }
      ]
    },
    {
      "cell_type": "markdown",
      "source": [
        "Y la [matriz de confusión](https://scikit-learn.org/stable/modules/generated/sklearn.metrics.ConfusionMatrixDisplay.html)"
      ],
      "metadata": {
        "id": "rosWtD4MnPAw"
      }
    },
    {
      "cell_type": "code",
      "source": [
        "import matplotlib.pyplot as plt\n",
        "from sklearn.metrics import confusion_matrix, ConfusionMatrixDisplay\n",
        "cm = confusion_matrix(y_test, y_pred, labels= clf.classes_)\n",
        "disp = ConfusionMatrixDisplay(confusion_matrix=cm, display_labels=clf.classes_)\n",
        "disp.plot()"
      ],
      "metadata": {
        "colab": {
          "base_uri": "https://localhost:8080/",
          "height": 296
        },
        "id": "qSZzOldtoOku",
        "outputId": "7f21b930-5f4e-48d7-bebc-5ce765224b09"
      },
      "execution_count": 16,
      "outputs": [
        {
          "output_type": "execute_result",
          "data": {
            "text/plain": [
              "<sklearn.metrics._plot.confusion_matrix.ConfusionMatrixDisplay at 0x7f855bf40e90>"
            ]
          },
          "metadata": {},
          "execution_count": 16
        },
        {
          "output_type": "display_data",
          "data": {
            "text/plain": [
              "<Figure size 432x288 with 2 Axes>"
            ],
            "image/png": "[encoded data removed]"
          },
          "metadata": {
            "needs_background": "light"
          }
        }
      ]
    },
    {
      "cell_type": "markdown",
      "source": [
        "**Ejercicios**\n",
        "\n",
        "Plantear el clasificador de préstamos añadiendo datos de otras tablas de la base de datos, u otros campos de las mismas tablas (edad del cliente, etc).\n",
        "\n",
        "Otras transformaciones: [Discretización](https://scikit-learn.org/stable/modules/preprocessing.html#preprocessing-discretization) y utilización de otros clasificadores NB"
      ],
      "metadata": {
        "id": "rPkodIffcBxb"
      }
    },
    {
      "cell_type": "markdown",
      "source": [
        "CARGA DE DATOS"
      ],
      "metadata": {
        "id": "51fLIQMcOsi6"
      }
    },
    {
      "cell_type": "code",
      "source": [
        "!gdown --id 1Osmr7qVN0NMuqYxvLesNn7H4nqPCVbsU"
      ],
      "metadata": {
        "colab": {
          "base_uri": "https://localhost:8080/"
        },
        "id": "RoEzl26nq8pp",
        "outputId": "32b073b0-a29d-4835-e1ee-a41442362f21"
      },
      "execution_count": 1,
      "outputs": [
        {
          "output_type": "stream",
          "name": "stdout",
          "text": [
            "/usr/local/lib/python3.7/dist-packages/gdown/cli.py:131: FutureWarning: Option `--id` was deprecated in version 4.3.1 and will be removed in 5.0. You don't need to pass it anymore to use a file ID.\n",
            "  category=FutureWarning,\n",
            "Downloading...\n",
            "From: https://drive.google.com/uc?id=1Osmr7qVN0NMuqYxvLesNn7H4nqPCVbsU\n",
            "To: /content/data_berka.db\n",
            "100% 70.2M/70.2M [00:01<00:00, 58.9MB/s]\n"
          ]
        }
      ]
    },
    {
      "cell_type": "markdown",
      "source": [
        "1.Carga de la extensión sql"
      ],
      "metadata": {
        "id": "MAKGPwagrpK8"
      }
    },
    {
      "cell_type": "code",
      "source": [
        "%load_ext sql"
      ],
      "metadata": {
        "id": "go83a3lRrrmD"
      },
      "execution_count": 2,
      "outputs": []
    },
    {
      "cell_type": "markdown",
      "source": [
        "2. Conexión con la base de datos"
      ],
      "metadata": {
        "id": "p_UUTHhwrum9"
      }
    },
    {
      "cell_type": "code",
      "source": [
        "%sql sqlite:///data_berka.db"
      ],
      "metadata": {
        "id": "oMeTNvscrw2P",
        "colab": {
          "base_uri": "https://localhost:8080/",
          "height": 36
        },
        "outputId": "8726a166-4e6f-40ad-bf30-d459e80d0ba9"
      },
      "execution_count": 3,
      "outputs": [
        {
          "output_type": "execute_result",
          "data": {
            "text/plain": [
              "'Connected: @data_berka.db'"
            ],
            "application/vnd.google.colaboratory.intrinsic+json": {
              "type": "string"
            }
          },
          "metadata": {},
          "execution_count": 3
        }
      ]
    },
    {
      "cell_type": "markdown",
      "source": [
        "Sintaxis de uso de INNER JOIN para establecer joins entre tablas"
      ],
      "metadata": {
        "id": "D9CI1ufMmg7u"
      }
    },
    {
      "cell_type": "code",
      "source": [
        "%%sql loans_train2 << SELECT substr(l.date,0,3) year, l.amount, duration, payments, A10 as r_urban_inhabitants , po.amount, po.account_to as account_recipient,\n",
        "  CASE status WHEN 'A' THEN 1\n",
        "              WHEN 'B' THEN 0\n",
        "\n",
        "  END label\n",
        "  FROM LOAN l INNER JOIN DISTRICT d\n",
        "              INNER JOIN PERMANENT_ORDER po\n",
        "              INNER JOIN ACCOUNT a on l.account_id = a.account_id = po.account_id\n",
        "             \n",
        "  WHERE l.status in (\"A\", \"B\")"
      ],
      "metadata": {
        "colab": {
          "base_uri": "https://localhost:8080/"
        },
        "id": "jaMDy5NIyuoL",
        "outputId": "f7c2124b-2ccc-45e3-cd72-ecc0390faa84"
      },
      "execution_count": null,
      "outputs": [
        {
          "output_type": "stream",
          "name": "stdout",
          "text": [
            " * sqlite:///data_berka.db\n",
            "Done.\n",
            "Returning data to local variable loans_train2\n"
          ]
        }
      ]
    },
    {
      "cell_type": "code",
      "source": [
        "%%sql loans_train2 << SELECT substr(l.date,0,3) year, l.amount, 99-substr(c.birth_number,0,3)age, duration, payments, A10 as r_urban_inhabitants, A13 as unemployement_96, po.amount,\n",
        "CASE status WHEN 'A' THEN 1\n",
        "            WHEN 'B' THEN 0 \n",
        "END label\n",
        "FROM ACCOUNT a INNER JOIN LOAN l on a.account_id = l.account_id = po.account_id\n",
        "               INNER JOIN DISTRICT d on a.district_id = d.A1 = c.district_id\n",
        "               INNER JOIN PERMANENT_ORDER po\n",
        "               INNER JOIN CLIENT c\n",
        "WHERE l.status in (\"A\",\"B\")"
      ],
      "metadata": {
        "colab": {
          "base_uri": "https://localhost:8080/"
        },
        "id": "frPjSwauEhkG",
        "outputId": "bde69a79-7ea0-4278-d7ae-fdc6d1dc6c82"
      },
      "execution_count": 16,
      "outputs": [
        {
          "output_type": "stream",
          "name": "stdout",
          "text": [
            " * sqlite:///data_berka.db\n",
            "Done.\n",
            "Returning data to local variable loans_train2\n"
          ]
        }
      ]
    },
    {
      "cell_type": "markdown",
      "source": [
        "Obtención del DataFrame"
      ],
      "metadata": {
        "id": "Y9kavE6uq7gY"
      }
    },
    {
      "cell_type": "code",
      "source": [
        "df_train2 = loans_train2.DataFrame()\n",
        "df_train2.head()"
      ],
      "metadata": {
        "colab": {
          "base_uri": "https://localhost:8080/",
          "height": 206
        },
        "id": "F5SfrGBgq-Xp",
        "outputId": "abe663de-6b4a-43de-ebd6-943bf8c7a6a6"
      },
      "execution_count": 17,
      "outputs": [
        {
          "output_type": "execute_result",
          "data": {
            "text/plain": [
              "  year  amount  age  duration  payments  r_urban_inhabitants  \\\n",
              "0   93   96396   86        12      8033                 81.8   \n",
              "1   93   96396   84        12      8033                 81.8   \n",
              "2   93   96396   82        12      8033                 81.8   \n",
              "3   93   96396   82        12      8033                 81.8   \n",
              "4   93   96396   81        12      8033                 81.8   \n",
              "\n",
              "   unemployement_96  amount  label  \n",
              "0              3.67    2452      0  \n",
              "1              3.67    2452      0  \n",
              "2              3.67    2452      0  \n",
              "3              3.67    2452      0  \n",
              "4              3.67    2452      0  "
            ],
            "text/html": [
              "\n",
              "  <div id=\"df-7ff23ce5-1400-4ac4-acda-8856d7175e09\">\n",
              "    <div class=\"colab-df-container\">\n",
              "      <div>\n",
              "<style scoped>\n",
              "    .dataframe tbody tr th:only-of-type {\n",
              "        vertical-align: middle;\n",
              "    }\n",
              "\n",
              "    .dataframe tbody tr th {\n",
              "        vertical-align: top;\n",
              "    }\n",
              "\n",
              "    .dataframe thead th {\n",
              "        text-align: right;\n",
              "    }\n",
              "</style>\n",
              "<table border=\"1\" class=\"dataframe\">\n",
              "  <thead>\n",
              "    <tr style=\"text-align: right;\">\n",
              "      <th></th>\n",
              "      <th>year</th>\n",
              "      <th>amount</th>\n",
              "      <th>age</th>\n",
              "      <th>duration</th>\n",
              "      <th>payments</th>\n",
              "      <th>r_urban_inhabitants</th>\n",
              "      <th>unemployement_96</th>\n",
              "      <th>amount</th>\n",
              "      <th>label</th>\n",
              "    </tr>\n",
              "  </thead>\n",
              "  <tbody>\n",
              "    <tr>\n",
              "      <th>0</th>\n",
              "      <td>93</td>\n",
              "      <td>96396</td>\n",
              "      <td>86</td>\n",
              "      <td>12</td>\n",
              "      <td>8033</td>\n",
              "      <td>81.8</td>\n",
              "      <td>3.67</td>\n",
              "      <td>2452</td>\n",
              "      <td>0</td>\n",
              "    </tr>\n",
              "    <tr>\n",
              "      <th>1</th>\n",
              "      <td>93</td>\n",
              "      <td>96396</td>\n",
              "      <td>84</td>\n",
              "      <td>12</td>\n",
              "      <td>8033</td>\n",
              "      <td>81.8</td>\n",
              "      <td>3.67</td>\n",
              "      <td>2452</td>\n",
              "      <td>0</td>\n",
              "    </tr>\n",
              "    <tr>\n",
              "      <th>2</th>\n",
              "      <td>93</td>\n",
              "      <td>96396</td>\n",
              "      <td>82</td>\n",
              "      <td>12</td>\n",
              "      <td>8033</td>\n",
              "      <td>81.8</td>\n",
              "      <td>3.67</td>\n",
              "      <td>2452</td>\n",
              "      <td>0</td>\n",
              "    </tr>\n",
              "    <tr>\n",
              "      <th>3</th>\n",
              "      <td>93</td>\n",
              "      <td>96396</td>\n",
              "      <td>82</td>\n",
              "      <td>12</td>\n",
              "      <td>8033</td>\n",
              "      <td>81.8</td>\n",
              "      <td>3.67</td>\n",
              "      <td>2452</td>\n",
              "      <td>0</td>\n",
              "    </tr>\n",
              "    <tr>\n",
              "      <th>4</th>\n",
              "      <td>93</td>\n",
              "      <td>96396</td>\n",
              "      <td>81</td>\n",
              "      <td>12</td>\n",
              "      <td>8033</td>\n",
              "      <td>81.8</td>\n",
              "      <td>3.67</td>\n",
              "      <td>2452</td>\n",
              "      <td>0</td>\n",
              "    </tr>\n",
              "  </tbody>\n",
              "</table>\n",
              "</div>\n",
              "      <button class=\"colab-df-convert\" onclick=\"convertToInteractive('df-7ff23ce5-1400-4ac4-acda-8856d7175e09')\"\n",
              "              title=\"Convert this dataframe to an interactive table.\"\n",
              "              style=\"display:none;\">\n",
              "        \n",
              "  <svg xmlns=\"http://www.w3.org/2000/svg\" height=\"24px\"viewBox=\"0 0 24 24\"\n",
              "       width=\"24px\">\n",
              "    <path d=\"M0 0h24v24H0V0z\" fill=\"none\"/>\n",
              "    <path d=\"M18.56 5.44l.94 2.06.94-2.06 2.06-.94-2.06-.94-.94-2.06-.94 2.06-2.06.94zm-11 1L8.5 8.5l.94-2.06 2.06-.94-2.06-.94L8.5 2.5l-.94 2.06-2.06.94zm10 10l.94 2.06.94-2.06 2.06-.94-2.06-.94-.94-2.06-.94 2.06-2.06.94z\"/><path d=\"M17.41 7.96l-1.37-1.37c-.4-.4-.92-.59-1.43-.59-.52 0-1.04.2-1.43.59L10.3 9.45l-7.72 7.72c-.78.78-.78 2.05 0 2.83L4 21.41c.39.39.9.59 1.41.59.51 0 1.02-.2 1.41-.59l7.78-7.78 2.81-2.81c.8-.78.8-2.07 0-2.86zM5.41 20L4 18.59l7.72-7.72 1.47 1.35L5.41 20z\"/>\n",
              "  </svg>\n",
              "      </button>\n",
              "      \n",
              "  <style>\n",
              "    .colab-df-container {\n",
              "      display:flex;\n",
              "      flex-wrap:wrap;\n",
              "      gap: 12px;\n",
              "    }\n",
              "\n",
              "    .colab-df-convert {\n",
              "      background-color: #E8F0FE;\n",
              "      border: none;\n",
              "      border-radius: 50%;\n",
              "      cursor: pointer;\n",
              "      display: none;\n",
              "      fill: #1967D2;\n",
              "      height: 32px;\n",
              "      padding: 0 0 0 0;\n",
              "      width: 32px;\n",
              "    }\n",
              "\n",
              "    .colab-df-convert:hover {\n",
              "      background-color: #E2EBFA;\n",
              "      box-shadow: 0px 1px 2px rgba(60, 64, 67, 0.3), 0px 1px 3px 1px rgba(60, 64, 67, 0.15);\n",
              "      fill: #174EA6;\n",
              "    }\n",
              "\n",
              "    [theme=dark] .colab-df-convert {\n",
              "      background-color: #3B4455;\n",
              "      fill: #D2E3FC;\n",
              "    }\n",
              "\n",
              "    [theme=dark] .colab-df-convert:hover {\n",
              "      background-color: #434B5C;\n",
              "      box-shadow: 0px 1px 3px 1px rgba(0, 0, 0, 0.15);\n",
              "      filter: drop-shadow(0px 1px 2px rgba(0, 0, 0, 0.3));\n",
              "      fill: #FFFFFF;\n",
              "    }\n",
              "  </style>\n",
              "\n",
              "      <script>\n",
              "        const buttonEl =\n",
              "          document.querySelector('#df-7ff23ce5-1400-4ac4-acda-8856d7175e09 button.colab-df-convert');\n",
              "        buttonEl.style.display =\n",
              "          google.colab.kernel.accessAllowed ? 'block' : 'none';\n",
              "\n",
              "        async function convertToInteractive(key) {\n",
              "          const element = document.querySelector('#df-7ff23ce5-1400-4ac4-acda-8856d7175e09');\n",
              "          const dataTable =\n",
              "            await google.colab.kernel.invokeFunction('convertToInteractive',\n",
              "                                                     [key], {});\n",
              "          if (!dataTable) return;\n",
              "\n",
              "          const docLinkHtml = 'Like what you see? Visit the ' +\n",
              "            '<a target=\"_blank\" href=https://colab.research.google.com/notebooks/data_table.ipynb>data table notebook</a>'\n",
              "            + ' to learn more about interactive tables.';\n",
              "          element.innerHTML = '';\n",
              "          dataTable['output_type'] = 'display_data';\n",
              "          await google.colab.output.renderOutput(dataTable, element);\n",
              "          const docLink = document.createElement('div');\n",
              "          docLink.innerHTML = docLinkHtml;\n",
              "          element.appendChild(docLink);\n",
              "        }\n",
              "      </script>\n",
              "    </div>\n",
              "  </div>\n",
              "  "
            ]
          },
          "metadata": {},
          "execution_count": 17
        }
      ]
    },
    {
      "cell_type": "code",
      "source": [
        "df_train2.shape"
      ],
      "metadata": {
        "colab": {
          "base_uri": "https://localhost:8080/"
        },
        "id": "B-sV6vbhrZdB",
        "outputId": "1efae17c-34d0-489f-e6fa-55c3e016050f"
      },
      "execution_count": 18,
      "outputs": [
        {
          "output_type": "execute_result",
          "data": {
            "text/plain": [
              "(155142, 9)"
            ]
          },
          "metadata": {},
          "execution_count": 18
        }
      ]
    },
    {
      "cell_type": "markdown",
      "source": [
        "Datos test:"
      ],
      "metadata": {
        "id": "z7_b7_QsrioL"
      }
    },
    {
      "cell_type": "code",
      "source": [
        "%%sql loans_test2 << SELECT substr(l.date,0,3) year, l.amount, 99-substr(c.birth_number,0,3)age, duration, payments, A10 as r_urban_inhabitants, A13 as unemployement_96, po.amount,\n",
        "CASE status WHEN 'C' THEN 1\n",
        "            WHEN 'D' THEN 0 \n",
        "END label\n",
        "FROM ACCOUNT a INNER JOIN LOAN l on a.account_id = l.account_id = po.account_id\n",
        "               INNER JOIN DISTRICT d on a.district_id = d.A1 = c.district_id\n",
        "               INNER JOIN PERMANENT_ORDER po\n",
        "               INNER JOIN CLIENT c\n",
        "WHERE l.status in (\"C\",\"D\")"
      ],
      "metadata": {
        "colab": {
          "base_uri": "https://localhost:8080/"
        },
        "id": "jtrc6FCAE0hA",
        "outputId": "ee89c63f-013a-40da-ea9c-e299bc4472bb"
      },
      "execution_count": 19,
      "outputs": [
        {
          "output_type": "stream",
          "name": "stdout",
          "text": [
            " * sqlite:///data_berka.db\n",
            "Done.\n",
            "Returning data to local variable loans_test2\n"
          ]
        }
      ]
    },
    {
      "cell_type": "code",
      "source": [
        "df_test2 = loans_test2.DataFrame()\n",
        "df_test2.head()"
      ],
      "metadata": {
        "colab": {
          "base_uri": "https://localhost:8080/",
          "height": 206
        },
        "id": "96Hfes6lr3Dn",
        "outputId": "f0aacff5-7305-4128-a05b-0933a581ba29"
      },
      "execution_count": 20,
      "outputs": [
        {
          "output_type": "execute_result",
          "data": {
            "text/plain": [
              "  year  amount  age  duration  payments  r_urban_inhabitants  \\\n",
              "0   94  253200   86        60      4220                 57.2   \n",
              "1   94  253200   84        60      4220                 57.2   \n",
              "2   94  253200   82        60      4220                 57.2   \n",
              "3   94  253200   82        60      4220                 57.2   \n",
              "4   94  253200   81        60      4220                 57.2   \n",
              "\n",
              "   unemployement_96  amount  label  \n",
              "0              4.72    2452      1  \n",
              "1              4.72    2452      1  \n",
              "2              4.72    2452      1  \n",
              "3              4.72    2452      1  \n",
              "4              4.72    2452      1  "
            ],
            "text/html": [
              "\n",
              "  <div id=\"df-1946f953-9324-41c9-a16e-bc36df4e65f7\">\n",
              "    <div class=\"colab-df-container\">\n",
              "      <div>\n",
              "<style scoped>\n",
              "    .dataframe tbody tr th:only-of-type {\n",
              "        vertical-align: middle;\n",
              "    }\n",
              "\n",
              "    .dataframe tbody tr th {\n",
              "        vertical-align: top;\n",
              "    }\n",
              "\n",
              "    .dataframe thead th {\n",
              "        text-align: right;\n",
              "    }\n",
              "</style>\n",
              "<table border=\"1\" class=\"dataframe\">\n",
              "  <thead>\n",
              "    <tr style=\"text-align: right;\">\n",
              "      <th></th>\n",
              "      <th>year</th>\n",
              "      <th>amount</th>\n",
              "      <th>age</th>\n",
              "      <th>duration</th>\n",
              "      <th>payments</th>\n",
              "      <th>r_urban_inhabitants</th>\n",
              "      <th>unemployement_96</th>\n",
              "      <th>amount</th>\n",
              "      <th>label</th>\n",
              "    </tr>\n",
              "  </thead>\n",
              "  <tbody>\n",
              "    <tr>\n",
              "      <th>0</th>\n",
              "      <td>94</td>\n",
              "      <td>253200</td>\n",
              "      <td>86</td>\n",
              "      <td>60</td>\n",
              "      <td>4220</td>\n",
              "      <td>57.2</td>\n",
              "      <td>4.72</td>\n",
              "      <td>2452</td>\n",
              "      <td>1</td>\n",
              "    </tr>\n",
              "    <tr>\n",
              "      <th>1</th>\n",
              "      <td>94</td>\n",
              "      <td>253200</td>\n",
              "      <td>84</td>\n",
              "      <td>60</td>\n",
              "      <td>4220</td>\n",
              "      <td>57.2</td>\n",
              "      <td>4.72</td>\n",
              "      <td>2452</td>\n",
              "      <td>1</td>\n",
              "    </tr>\n",
              "    <tr>\n",
              "      <th>2</th>\n",
              "      <td>94</td>\n",
              "      <td>253200</td>\n",
              "      <td>82</td>\n",
              "      <td>60</td>\n",
              "      <td>4220</td>\n",
              "      <td>57.2</td>\n",
              "      <td>4.72</td>\n",
              "      <td>2452</td>\n",
              "      <td>1</td>\n",
              "    </tr>\n",
              "    <tr>\n",
              "      <th>3</th>\n",
              "      <td>94</td>\n",
              "      <td>253200</td>\n",
              "      <td>82</td>\n",
              "      <td>60</td>\n",
              "      <td>4220</td>\n",
              "      <td>57.2</td>\n",
              "      <td>4.72</td>\n",
              "      <td>2452</td>\n",
              "      <td>1</td>\n",
              "    </tr>\n",
              "    <tr>\n",
              "      <th>4</th>\n",
              "      <td>94</td>\n",
              "      <td>253200</td>\n",
              "      <td>81</td>\n",
              "      <td>60</td>\n",
              "      <td>4220</td>\n",
              "      <td>57.2</td>\n",
              "      <td>4.72</td>\n",
              "      <td>2452</td>\n",
              "      <td>1</td>\n",
              "    </tr>\n",
              "  </tbody>\n",
              "</table>\n",
              "</div>\n",
              "      <button class=\"colab-df-convert\" onclick=\"convertToInteractive('df-1946f953-9324-41c9-a16e-bc36df4e65f7')\"\n",
              "              title=\"Convert this dataframe to an interactive table.\"\n",
              "              style=\"display:none;\">\n",
              "        \n",
              "  <svg xmlns=\"http://www.w3.org/2000/svg\" height=\"24px\"viewBox=\"0 0 24 24\"\n",
              "       width=\"24px\">\n",
              "    <path d=\"M0 0h24v24H0V0z\" fill=\"none\"/>\n",
              "    <path d=\"M18.56 5.44l.94 2.06.94-2.06 2.06-.94-2.06-.94-.94-2.06-.94 2.06-2.06.94zm-11 1L8.5 8.5l.94-2.06 2.06-.94-2.06-.94L8.5 2.5l-.94 2.06-2.06.94zm10 10l.94 2.06.94-2.06 2.06-.94-2.06-.94-.94-2.06-.94 2.06-2.06.94z\"/><path d=\"M17.41 7.96l-1.37-1.37c-.4-.4-.92-.59-1.43-.59-.52 0-1.04.2-1.43.59L10.3 9.45l-7.72 7.72c-.78.78-.78 2.05 0 2.83L4 21.41c.39.39.9.59 1.41.59.51 0 1.02-.2 1.41-.59l7.78-7.78 2.81-2.81c.8-.78.8-2.07 0-2.86zM5.41 20L4 18.59l7.72-7.72 1.47 1.35L5.41 20z\"/>\n",
              "  </svg>\n",
              "      </button>\n",
              "      \n",
              "  <style>\n",
              "    .colab-df-container {\n",
              "      display:flex;\n",
              "      flex-wrap:wrap;\n",
              "      gap: 12px;\n",
              "    }\n",
              "\n",
              "    .colab-df-convert {\n",
              "      background-color: #E8F0FE;\n",
              "      border: none;\n",
              "      border-radius: 50%;\n",
              "      cursor: pointer;\n",
              "      display: none;\n",
              "      fill: #1967D2;\n",
              "      height: 32px;\n",
              "      padding: 0 0 0 0;\n",
              "      width: 32px;\n",
              "    }\n",
              "\n",
              "    .colab-df-convert:hover {\n",
              "      background-color: #E2EBFA;\n",
              "      box-shadow: 0px 1px 2px rgba(60, 64, 67, 0.3), 0px 1px 3px 1px rgba(60, 64, 67, 0.15);\n",
              "      fill: #174EA6;\n",
              "    }\n",
              "\n",
              "    [theme=dark] .colab-df-convert {\n",
              "      background-color: #3B4455;\n",
              "      fill: #D2E3FC;\n",
              "    }\n",
              "\n",
              "    [theme=dark] .colab-df-convert:hover {\n",
              "      background-color: #434B5C;\n",
              "      box-shadow: 0px 1px 3px 1px rgba(0, 0, 0, 0.15);\n",
              "      filter: drop-shadow(0px 1px 2px rgba(0, 0, 0, 0.3));\n",
              "      fill: #FFFFFF;\n",
              "    }\n",
              "  </style>\n",
              "\n",
              "      <script>\n",
              "        const buttonEl =\n",
              "          document.querySelector('#df-1946f953-9324-41c9-a16e-bc36df4e65f7 button.colab-df-convert');\n",
              "        buttonEl.style.display =\n",
              "          google.colab.kernel.accessAllowed ? 'block' : 'none';\n",
              "\n",
              "        async function convertToInteractive(key) {\n",
              "          const element = document.querySelector('#df-1946f953-9324-41c9-a16e-bc36df4e65f7');\n",
              "          const dataTable =\n",
              "            await google.colab.kernel.invokeFunction('convertToInteractive',\n",
              "                                                     [key], {});\n",
              "          if (!dataTable) return;\n",
              "\n",
              "          const docLinkHtml = 'Like what you see? Visit the ' +\n",
              "            '<a target=\"_blank\" href=https://colab.research.google.com/notebooks/data_table.ipynb>data table notebook</a>'\n",
              "            + ' to learn more about interactive tables.';\n",
              "          element.innerHTML = '';\n",
              "          dataTable['output_type'] = 'display_data';\n",
              "          await google.colab.output.renderOutput(dataTable, element);\n",
              "          const docLink = document.createElement('div');\n",
              "          docLink.innerHTML = docLinkHtml;\n",
              "          element.appendChild(docLink);\n",
              "        }\n",
              "      </script>\n",
              "    </div>\n",
              "  </div>\n",
              "  "
            ]
          },
          "metadata": {},
          "execution_count": 20
        }
      ]
    },
    {
      "cell_type": "code",
      "source": [
        "df_test2.shape"
      ],
      "metadata": {
        "colab": {
          "base_uri": "https://localhost:8080/"
        },
        "id": "gFSXfy45s4eQ",
        "outputId": "10d9f925-8809-4f3f-f5d2-70b99e5fc191"
      },
      "execution_count": 22,
      "outputs": [
        {
          "output_type": "execute_result",
          "data": {
            "text/plain": [
              "(297024, 9)"
            ]
          },
          "metadata": {},
          "execution_count": 22
        }
      ]
    },
    {
      "cell_type": "markdown",
      "source": [
        "3. División de datos de entrenamiento y test"
      ],
      "metadata": {
        "id": "Hmtlsd4wr9XL"
      }
    },
    {
      "cell_type": "code",
      "source": [
        "features = [\"year\", \"amount\", \"age\", \"duration\", \"payments\", \"r_urban_inhabitants\",\"unemployement_96\", \"amount\",\"label\"]"
      ],
      "metadata": {
        "id": "RHBlCxUnsEwy"
      },
      "execution_count": 23,
      "outputs": []
    },
    {
      "cell_type": "code",
      "source": [
        "X_train2 = df_train2[features]\n",
        "y_train2 = df_train2[\"label\"]\n",
        "\n",
        "X_test2 = df_test2[features]\n",
        "y_test2 = df_test2[\"label\"]\n"
      ],
      "metadata": {
        "id": "4c00isPltS8u"
      },
      "execution_count": 24,
      "outputs": []
    },
    {
      "cell_type": "markdown",
      "source": [
        "4. Normalizar los resultados."
      ],
      "metadata": {
        "id": "ZTn3wA5Itg5F"
      }
    },
    {
      "cell_type": "code",
      "source": [
        "from sklearn.preprocessing import StandardScaler\n",
        "scaler = StandardScaler()\n",
        "# calculo de los factores de centrado y escalado\n",
        "scaler.fit(X_train2) \n",
        "# transformación\n",
        "X_train = scaler.transform(X_train2)\n",
        "X_test = scaler.transform(X_test2)"
      ],
      "metadata": {
        "id": "Zhep577EFZVJ"
      },
      "execution_count": 25,
      "outputs": []
    },
    {
      "cell_type": "markdown",
      "source": [
        "Aplicación de NaiveBayes"
      ],
      "metadata": {
        "id": "b3IQC15vv4tT"
      }
    },
    {
      "cell_type": "code",
      "source": [
        "from sklearn.naive_bayes import GaussianNB\n",
        "gnb = GaussianNB()\n",
        "clf = gnb.fit(X_train2, y_train2)\n",
        "y_pred2 = clf.predict(X_test2)\n",
        "print(\"Número de préstamos clasificados erroneamente %d de un total de  %d\"  % (X_test2.shape[0], (y_test2 != y_pred2).sum()))"
      ],
      "metadata": {
        "colab": {
          "base_uri": "https://localhost:8080/"
        },
        "id": "3cApQCn3v6SE",
        "outputId": "c6632112-0a27-4043-9519-98743cd44c19"
      },
      "execution_count": 26,
      "outputs": [
        {
          "output_type": "stream",
          "name": "stdout",
          "text": [
            "Número de préstamos clasificados erroneamente 297024 de un total de  106080\n"
          ]
        }
      ]
    },
    {
      "cell_type": "code",
      "source": [
        "from sklearn.metrics import classification_report\n",
        "print(classification_report(y_test2, y_pred2, labels=clf.classes_))"
      ],
      "metadata": {
        "colab": {
          "base_uri": "https://localhost:8080/"
        },
        "id": "LdkJJFKGxFn9",
        "outputId": "828a4b00-9352-4ac2-f1d0-1df40189bd11"
      },
      "execution_count": 27,
      "outputs": [
        {
          "output_type": "stream",
          "name": "stdout",
          "text": [
            "              precision    recall  f1-score   support\n",
            "\n",
            "           0       0.17      0.64      0.27     29835\n",
            "           1       0.94      0.64      0.76    267189\n",
            "\n",
            "    accuracy                           0.64    297024\n",
            "   macro avg       0.55      0.64      0.52    297024\n",
            "weighted avg       0.86      0.64      0.71    297024\n",
            "\n"
          ]
        }
      ]
    },
    {
      "cell_type": "markdown",
      "source": [
        "Matriz de confusión:"
      ],
      "metadata": {
        "id": "A8l3BF2pxO5v"
      }
    },
    {
      "cell_type": "code",
      "source": [
        "import matplotlib.pyplot as plt\n",
        "from sklearn.metrics import confusion_matrix, ConfusionMatrixDisplay\n",
        "cm = confusion_matrix(y_test2, y_pred2, labels= clf.classes_)\n",
        "disp = ConfusionMatrixDisplay(confusion_matrix=cm, display_labels=clf.classes_)\n",
        "disp.plot()"
      ],
      "metadata": {
        "colab": {
          "base_uri": "https://localhost:8080/",
          "height": 296
        },
        "id": "4tsBp1TkxQZI",
        "outputId": "6dff0343-20f0-4d28-f16a-8bf9977eaf71"
      },
      "execution_count": 28,
      "outputs": [
        {
          "output_type": "execute_result",
          "data": {
            "text/plain": [
              "<sklearn.metrics._plot.confusion_matrix.ConfusionMatrixDisplay at 0x7f829f922d10>"
            ]
          },
          "metadata": {},
          "execution_count": 28
        },
        {
          "output_type": "display_data",
          "data": {
            "text/plain": [
              "<Figure size 432x288 with 2 Axes>"
            ],
            "image/png": "[encoded data removed]"
          },
          "metadata": {
            "needs_background": "light"
          }
        }
      ]
    },
    {
      "cell_type": "markdown",
      "source": [
        "En este caso, para realizar la nueva matriz de confusión se han tenido nuevos datos en cuenta como: \n",
        "-Edad: ya que es una variable importante a la hora de la concesión de préstamos debido a su posible disponibilidad de tiempo para hacer frente a la deuda. \n",
        "-Ratio de desempleo: se ha considerado importante para saber si el cliente podrá hacer frente al préstamo. \n",
        "-Cantidad del préstado (cantidad endeudada): se ha considerado importante, ya que si la cantidad solicitada es mayor, su concesión será más difícil según las condiciones del cliente."
      ],
      "metadata": {
        "id": "YEm2yRohGU0V"
      }
    }
  ]
}